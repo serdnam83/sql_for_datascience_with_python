{
 "cells": [
  {
   "cell_type": "markdown",
   "metadata": {},
   "source": [
    "<h1 align=\"center\" style= \"color: cyan\">CREACIÓN Y ACCESO A BASES SQL CON PYTHON</h1>"
   ]
  },
  {
   "cell_type": "markdown",
   "metadata": {},
   "source": [
    "<h2 >MariaDB</h2>"
   ]
  },
  {
   "cell_type": "markdown",
   "metadata": {},
   "source": [
    "Para usar MySQL o MariaDB importamos el modulo mariadb"
   ]
  },
  {
   "cell_type": "code",
   "execution_count": null,
   "metadata": {},
   "outputs": [],
   "source": [
    "import mariadb"
   ]
  },
  {
   "cell_type": "markdown",
   "metadata": {},
   "source": [
    "Creamos un diccionario que contenga los parametros de conexión"
   ]
  },
  {
   "cell_type": "code",
   "execution_count": null,
   "metadata": {},
   "outputs": [],
   "source": [
    "conn_mdb_params = {\n",
    "    \"user\" : \"root\",\n",
    "    \"password\" : \"@Ndresmariadb\",\n",
    "    \"host\" : \"localhost\",\n",
    "    \"database\" : \"test\"\n",
    "}"
   ]
  },
  {
   "cell_type": "markdown",
   "metadata": {},
   "source": [
    "Luego creamos el objeto CONEXION   "
   ]
  },
  {
   "cell_type": "code",
   "execution_count": null,
   "metadata": {},
   "outputs": [],
   "source": [
    "conn_mdb = mariadb.connect(**conn_mdb_params)"
   ]
  },
  {
   "cell_type": "markdown",
   "metadata": {},
   "source": [
    "Luego creamos el objeto CURSOR, que es una instancia del objeto CONEXION"
   ]
  },
  {
   "cell_type": "code",
   "execution_count": null,
   "metadata": {},
   "outputs": [],
   "source": [
    "cursor_mdb = conn_mdb.cursor()"
   ]
  },
  {
   "cell_type": "markdown",
   "metadata": {},
   "source": [
    "Para ejecutar querys, usamos el metodo execute()"
   ]
  },
  {
   "cell_type": "code",
   "execution_count": null,
   "metadata": {},
   "outputs": [],
   "source": [
    "cursor_mdb.execute(\"DROP TABLE IF EXISTS INSTRUCTOR\")"
   ]
  },
  {
   "cell_type": "markdown",
   "metadata": {},
   "source": [
    "Vamos a crear una tabla llamada instructor, usaremos el metodo excute() al cual le pasaremos los parametros como variables table y row"
   ]
  },
  {
   "cell_type": "code",
   "execution_count": null,
   "metadata": {},
   "outputs": [],
   "source": [
    "table = \"CREATE TABLE IF NOT EXISTS INSTRUCTOR (ID INTEGER PRIMARY KEY NOT NULL, FNAME VARCHAR(20), LNAME VARCHAR(20), CITY VARCHAR(20), CCODE CHAR(2))\"\n",
    "cursor_mdb.execute(table)\n",
    "print(\"Se ha creado la tabla\")"
   ]
  },
  {
   "cell_type": "code",
   "execution_count": null,
   "metadata": {},
   "outputs": [],
   "source": [
    "row1 = (1, 'Rav', 'Ahuja', 'TORONTO', 'CA')\n",
    "row2 = (2, 'Raul', 'Chong', 'Markhan', 'CA')\n",
    "row3 = (3, 'Hima', 'Vasudevan', 'Chicago', 'US')"
   ]
  },
  {
   "cell_type": "markdown",
   "metadata": {},
   "source": [
    "Creamos la variable sql que contendra la sentencia SQL para insertar los datos en la tabla. En MariaDB se usa ? como marcador de posición para las variables "
   ]
  },
  {
   "cell_type": "code",
   "execution_count": null,
   "metadata": {},
   "outputs": [],
   "source": [
    "sql = \"INSERT INTO INSTRUCTOR (ID, FNAME, LNAME, CITY, CCODE) VALUES (?, ?, ?, ?, ?)\""
   ]
  },
  {
   "cell_type": "markdown",
   "metadata": {},
   "source": [
    "Ejecutamos la sentencia para insertar los datos fila por fila"
   ]
  },
  {
   "cell_type": "code",
   "execution_count": null,
   "metadata": {},
   "outputs": [],
   "source": [
    "cursor_mdb.execute(sql, row1)"
   ]
  },
  {
   "cell_type": "code",
   "execution_count": null,
   "metadata": {},
   "outputs": [],
   "source": [
    "cursor_mdb.execute(sql, row2)"
   ]
  },
  {
   "cell_type": "code",
   "execution_count": null,
   "metadata": {},
   "outputs": [],
   "source": [
    "cursor_mdb.execute(sql, row3)"
   ]
  },
  {
   "cell_type": "markdown",
   "metadata": {},
   "source": [
    "MariaDB tiene deshabilitado por defecto el autocommit, por esta razon debemos hacerlo manualmente"
   ]
  },
  {
   "cell_type": "code",
   "execution_count": null,
   "metadata": {},
   "outputs": [],
   "source": [
    "conn_mdb.commit()"
   ]
  },
  {
   "cell_type": "markdown",
   "metadata": {},
   "source": [
    "Teniendo datos en la tabla ya podemos hacer consultas a la misma, se debo usar el metodo fetch() para recuperar los resultados de la consulta y poder manipularlos"
   ]
  },
  {
   "cell_type": "code",
   "execution_count": null,
   "metadata": {},
   "outputs": [],
   "source": [
    "statement = \"SELECT * FROM INSTRUCTOR\"\n",
    "cursor_mdb.execute(statement)\n",
    "conn_mdb.commit()\n",
    "\n",
    "\n",
    "print(\"All the data\")\n",
    "output = cursor_mdb.fetchall()\n",
    "for fetch in output:\n",
    "    print(fetch)"
   ]
  },
  {
   "cell_type": "code",
   "execution_count": null,
   "metadata": {},
   "outputs": [],
   "source": [
    "conn_mdb.close()"
   ]
  },
  {
   "cell_type": "markdown",
   "metadata": {},
   "source": [
    "<h2>PostgreSQL</H2>"
   ]
  },
  {
   "cell_type": "markdown",
   "metadata": {},
   "source": [
    "El adaptador para de PostgreSQL para python es psycopg2, asi que lo primero es importarlo"
   ]
  },
  {
   "cell_type": "code",
   "execution_count": 1,
   "metadata": {},
   "outputs": [],
   "source": [
    "import psycopg2"
   ]
  },
  {
   "cell_type": "markdown",
   "metadata": {},
   "source": [
    "Es recomendable no poner los parametros de conexión en el codigo, sin embargo para este ejemplo crearemos un diccionario que los contendra"
   ]
  },
  {
   "cell_type": "code",
   "execution_count": 2,
   "metadata": {},
   "outputs": [],
   "source": [
    "conn_psql_params = {\n",
    "    \"user\" : \"postgres\",\n",
    "    \"password\" : \"@Ndrespostgres\",\n",
    "    \"host\" : \"localhost\",\n",
    "    \"database\" : \"practicas\",\n",
    "    \"port\" : 5432\n",
    "}"
   ]
  },
  {
   "cell_type": "markdown",
   "metadata": {},
   "source": [
    "Luego creamos el objeto conexión, igual que con MariaDB, psycopg2 tiene un metodo connect()"
   ]
  },
  {
   "cell_type": "code",
   "execution_count": 3,
   "metadata": {},
   "outputs": [],
   "source": [
    "conn_psql = psycopg2.connect(**conn_psql_params)\n",
    "cursor_psql = conn_psql.cursor()"
   ]
  },
  {
   "cell_type": "markdown",
   "metadata": {},
   "source": [
    "Habiendo creado la conexión y el cursor podemos empezar a interactuar con la base de datos. Crearemos una sentencia SQL para eliminar la tabla instructor si esta ya existe"
   ]
  },
  {
   "cell_type": "code",
   "execution_count": 4,
   "metadata": {},
   "outputs": [],
   "source": [
    "cursor_psql.execute(\"DROP TABLE IF EXISTS INSTRUCTOR\")"
   ]
  },
  {
   "cell_type": "markdown",
   "metadata": {},
   "source": [
    "Al igual que con MariaDB, tenemos un metodo execute() al cual le pasaremos los parametros como variables. Crearemos la variable table, que contendra la sentencia SQL para crear la tabla instructor y luego ejecutaremos dicha sentencia"
   ]
  },
  {
   "cell_type": "code",
   "execution_count": 5,
   "metadata": {},
   "outputs": [],
   "source": [
    "table = \"CREATE TABLE IF NOT EXISTS INSTRUCTOR(ID INTEGER PRIMARY KEY NOT NULL, FNAME VARCHAR(20), LNAME VARCHAR(20), CITY VARCHAR(20), CCODE CHAR(2))\"\n",
    "cursor_psql.execute(table)\n"
   ]
  },
  {
   "cell_type": "markdown",
   "metadata": {},
   "source": [
    "Al igual que con MariaDB, el autocommit esta deshabilitado, es necesario ejecutarlo manualmente"
   ]
  },
  {
   "cell_type": "code",
   "execution_count": 6,
   "metadata": {},
   "outputs": [
    {
     "name": "stdout",
     "output_type": "stream",
     "text": [
      "Se ha creado la tabla\n"
     ]
    }
   ],
   "source": [
    "conn_psql.commit()\n",
    "print(\"Se ha creado la tabla\")"
   ]
  },
  {
   "cell_type": "markdown",
   "metadata": {},
   "source": [
    "Ya tenemos la tabla creada, ahora definiremos las variables que contendran los parametros para poblar la tabla"
   ]
  },
  {
   "cell_type": "code",
   "execution_count": 7,
   "metadata": {},
   "outputs": [],
   "source": [
    "row1 = (1, 'Rav', 'Ahuja', 'TORONTO', 'CA')\n",
    "row2 = (2, 'Raul', 'Chong', 'Markhan', 'CA')\n",
    "row3 = (3, 'Hima', 'Vasudevan', 'Chicago', 'US')"
   ]
  },
  {
   "cell_type": "markdown",
   "metadata": {},
   "source": [
    "Crearemos una variable llamada sql que contendra la sentencia SQL para isertar los datos en la tabla. En PostgreSQL se utiliza %s como marcador de posición para las variables"
   ]
  },
  {
   "cell_type": "code",
   "execution_count": 8,
   "metadata": {},
   "outputs": [],
   "source": [
    "sql = \"INSERT INTO INSTRUCTOR(ID, FNAME, LNAME, CITY, CCODE) VALUES(%s, %s, %s, %s, %s);\""
   ]
  },
  {
   "cell_type": "markdown",
   "metadata": {},
   "source": [
    "Ejecutamos la sentencia para isertar fila por fila"
   ]
  },
  {
   "cell_type": "code",
   "execution_count": 9,
   "metadata": {},
   "outputs": [],
   "source": [
    "cursor_psql.execute(sql, row1)"
   ]
  },
  {
   "cell_type": "code",
   "execution_count": 10,
   "metadata": {},
   "outputs": [],
   "source": [
    "cursor_psql.execute(sql,row2)"
   ]
  },
  {
   "cell_type": "code",
   "execution_count": 11,
   "metadata": {},
   "outputs": [],
   "source": [
    "cursor_psql.execute(sql, row3)"
   ]
  },
  {
   "cell_type": "markdown",
   "metadata": {},
   "source": [
    "Ahora solo queda hacer commit para que se registren los cambios en la base"
   ]
  },
  {
   "cell_type": "code",
   "execution_count": 12,
   "metadata": {},
   "outputs": [],
   "source": [
    "conn_psql.commit()"
   ]
  },
  {
   "cell_type": "markdown",
   "metadata": {},
   "source": [
    "Teniendo la tabla poblada ya podemos hacer consultas SQL a la base de datos"
   ]
  },
  {
   "cell_type": "code",
   "execution_count": 13,
   "metadata": {},
   "outputs": [
    {
     "name": "stdout",
     "output_type": "stream",
     "text": [
      "All the data\n",
      "(1, 'Rav', 'Ahuja', 'TORONTO', 'CA')\n",
      "(2, 'Raul', 'Chong', 'Markhan', 'CA')\n",
      "(3, 'Hima', 'Vasudevan', 'Chicago', 'US')\n"
     ]
    }
   ],
   "source": [
    "statement_psql=\"SELECT * FROM INSTRUCTOR;\"\n",
    "cursor_psql.execute(statement_psql)\n",
    "conn_psql.commit()\n",
    "\n",
    "print(\"All the data\")\n",
    "data = cursor_psql.fetchall()\n",
    "for fetch in data:\n",
    "    print(fetch)"
   ]
  },
  {
   "cell_type": "code",
   "execution_count": null,
   "metadata": {},
   "outputs": [],
   "source": [
    "conn_psql.close()"
   ]
  }
 ],
 "metadata": {
  "kernelspec": {
   "display_name": "SQL-for-datascience-with-python-u_t806ji",
   "language": "python",
   "name": "python3"
  },
  "language_info": {
   "codemirror_mode": {
    "name": "ipython",
    "version": 3
   },
   "file_extension": ".py",
   "mimetype": "text/x-python",
   "name": "python",
   "nbconvert_exporter": "python",
   "pygments_lexer": "ipython3",
   "version": "3.11.6"
  }
 },
 "nbformat": 4,
 "nbformat_minor": 2
}
